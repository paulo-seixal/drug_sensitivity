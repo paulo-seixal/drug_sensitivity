{
 "cells": [
  {
   "cell_type": "code",
   "execution_count": 2,
   "metadata": {},
   "outputs": [
    {
     "name": "stdout",
     "output_type": "stream",
     "text": [
      "Running on local URL:  http://127.0.0.1:7861\n",
      "\n",
      "Could not create share link. Please check your internet connection or our status page: https://status.gradio.app.\n"
     ]
    },
    {
     "data": {
      "text/html": [
       "<div><iframe src=\"http://127.0.0.1:7861/\" width=\"100%\" height=\"500\" allow=\"autoplay; camera; microphone; clipboard-read; clipboard-write;\" frameborder=\"0\" allowfullscreen></iframe></div>"
      ],
      "text/plain": [
       "<IPython.core.display.HTML object>"
      ]
     },
     "metadata": {},
     "output_type": "display_data"
    },
    {
     "data": {
      "text/plain": []
     },
     "execution_count": 2,
     "metadata": {},
     "output_type": "execute_result"
    },
    {
     "name": "stderr",
     "output_type": "stream",
     "text": [
      "C:\\Users\\Paulo Seixal\\AppData\\Local\\Temp\\ipykernel_31508\\4030054351.py:35: SettingWithCopyWarning: \n",
      "A value is trying to be set on a copy of a slice from a DataFrame.\n",
      "Try using .loc[row_indexer,col_indexer] = value instead\n",
      "\n",
      "See the caveats in the documentation: https://pandas.pydata.org/pandas-docs/stable/user_guide/indexing.html#returning-a-view-versus-a-copy\n",
      "  filtered_cell_lines['common_key'] = 1\n"
     ]
    }
   ],
   "source": [
    "import gradio as gr\n",
    "import pandas as pd\n",
    "from rdkit import Chem\n",
    "from rdkit.Chem import AllChem\n",
    "import pickle\n",
    "\n",
    "# Load cell lines data and top genes\n",
    "cell_lines = pd.read_csv('data/gene_expression.csv', index_col=0)\n",
    "with open('data/2128_genes.pkl', 'rb') as f:\n",
    "    top_genes = pickle.load(f)\n",
    "\n",
    "# Load model\n",
    "with open('trained_models/xgboost.pkl', 'rb') as f:\n",
    "    model = pickle.load(f)\n",
    "\n",
    "filtered_cell_lines = cell_lines[cell_lines.columns.intersection(top_genes)]\n",
    "\n",
    "# Define the smiles_to_fingerprint function\n",
    "def smiles_to_fingerprint(smiles):\n",
    "    mol = Chem.MolFromSmiles(smiles)\n",
    "    fp = AllChem.GetMorganFingerprintAsBitVect(mol, 2, nBits=1024)\n",
    "    return fp\n",
    "\n",
    "# Define a function that will be called when the user makes a prediction\n",
    "def predict(smiles_notation):\n",
    "    # Transform SMILES to fingerprint\n",
    "    fingerprint = smiles_to_fingerprint(smiles_notation)\n",
    "    # print(fingerprint)\n",
    "\n",
    "    # Convert the fingerprint to a DataFrame with one row and columns representing bits\n",
    "    fingerprint_df = pd.DataFrame([list(fingerprint)], columns=range(1024)).apply(lambda x: pd.Series({f'fp{str(i)}': val for i, val in enumerate(x)}), axis=1)\n",
    "\n",
    "    # Merge the fingerprint with each row of filtered_cell_lines\n",
    "    fingerprint_df['common_key'] = 1\n",
    "    filtered_cell_lines['common_key'] = 1\n",
    "    merged_data = pd.merge(filtered_cell_lines, fingerprint_df, on='common_key').drop('common_key', axis=1)\n",
    "\n",
    "    # Perform any additional processing or prediction based on the merged_data\n",
    "    predicts = model.predict(merged_data)\n",
    "\n",
    "    #create dataset with two columns: cell line and IC50\n",
    "\n",
    "\n",
    "    #merge predicts with cell lines (label columns = 'Cell_line', 'IC50')\n",
    "    predicts = pd.DataFrame({'IC50': predicts,\n",
    "                             'Cell_line': filtered_cell_lines.index})\n",
    "\n",
    "    #sort by IC50 (only lowest 20)\n",
    "    predicts = predicts.sort_values(by='IC50').head(10)\n",
    "\n",
    "    return predicts\n",
    "\n",
    "# Define the Gradio interface\n",
    "iface = gr.Interface(\n",
    "    fn=predict,  # Placeholder for now, as the function will be defined dynamically\n",
    "    inputs=gr.Textbox(value=\"COc1cc(O)c2c(c1)C=CCC(O)C(O)C(=O)C=CCC(C)OC2=O\", lines=1, label=\"Enter drug in SMILES notation\"),\n",
    "    outputs=gr.Dataframe(headers=['IC50', 'Cell_line'],type=\"numpy\",label = 'Top 10 Cell Lines with lowest IC50' , datatype=\"number\", row_count=10, col_count=2),  # Adjust as needed\n",
    "    title=\"Drug Response Prediction\",\n",
    ")\n",
    "\n",
    "\n",
    "# Launch the Gradio interface\n",
    "iface.launch(share=True)\n"
   ]
  },
  {
   "cell_type": "code",
   "execution_count": 83,
   "metadata": {},
   "outputs": [],
   "source": [
    "with open('trained_models/xgboost.pkl', 'rb') as file:\n",
    "    model = pickle.load(file)"
   ]
  },
  {
   "cell_type": "code",
   "execution_count": 124,
   "metadata": {},
   "outputs": [],
   "source": [
    "\n",
    "\n",
    "def predict(smiles_notation):\n",
    "    # Transform SMILES to fingerprint\n",
    "    fingerprint = smiles_to_fingerprint(smiles_notation)\n",
    "    # print(fingerprint)\n",
    "\n",
    "    # Convert the fingerprint to a DataFrame with one row and columns representing bits\n",
    "    fingerprint_df = pd.DataFrame([list(fingerprint)], columns=range(1024)).apply(lambda x: pd.Series({f'fp{str(i)}': val for i, val in enumerate(x)}), axis=1)\n",
    "\n",
    "    # Merge the fingerprint with each row of filtered_cell_lines\n",
    "    fingerprint_df['common_key'] = 1\n",
    "    filtered_cell_lines['common_key'] = 1\n",
    "    merged_data = pd.merge(filtered_cell_lines, fingerprint_df, on='common_key').drop('common_key', axis=1)\n",
    "\n",
    "    # Perform any additional processing or prediction based on the merged_data\n",
    "    predicts = model.predict(merged_data)\n",
    "\n",
    "    #create dataset with two columns: cell line and IC50\n",
    "\n",
    "\n",
    "    #merge predicts with cell lines (label columns = 'Cell_line', 'IC50')\n",
    "    predicts = pd.DataFrame({'IC50': predicts,\n",
    "                             'Cell_line': filtered_cell_lines.index})\n",
    "\n",
    "    #sort by IC50 (only lowest 20)\n",
    "    predicts = predicts.sort_values(by='IC50').head(10)\n",
    "\n",
    "    return predicts"
   ]
  },
  {
   "cell_type": "code",
   "execution_count": 125,
   "metadata": {},
   "outputs": [
    {
     "name": "stderr",
     "output_type": "stream",
     "text": [
      "C:\\Users\\Paulo Seixal\\AppData\\Local\\Temp\\ipykernel_20640\\1239822744.py:11: SettingWithCopyWarning: \n",
      "A value is trying to be set on a copy of a slice from a DataFrame.\n",
      "Try using .loc[row_indexer,col_indexer] = value instead\n",
      "\n",
      "See the caveats in the documentation: https://pandas.pydata.org/pandas-docs/stable/user_guide/indexing.html#returning-a-view-versus-a-copy\n",
      "  filtered_cell_lines['common_key'] = 1\n"
     ]
    },
    {
     "data": {
      "text/html": [
       "<div>\n",
       "<style scoped>\n",
       "    .dataframe tbody tr th:only-of-type {\n",
       "        vertical-align: middle;\n",
       "    }\n",
       "\n",
       "    .dataframe tbody tr th {\n",
       "        vertical-align: top;\n",
       "    }\n",
       "\n",
       "    .dataframe thead th {\n",
       "        text-align: right;\n",
       "    }\n",
       "</style>\n",
       "<table border=\"1\" class=\"dataframe\">\n",
       "  <thead>\n",
       "    <tr style=\"text-align: right;\">\n",
       "      <th></th>\n",
       "      <th>IC50</th>\n",
       "      <th>Cell_line</th>\n",
       "    </tr>\n",
       "  </thead>\n",
       "  <tbody>\n",
       "    <tr>\n",
       "      <th>302</th>\n",
       "      <td>0.180740</td>\n",
       "      <td>EoL-1-cell</td>\n",
       "    </tr>\n",
       "    <tr>\n",
       "      <th>763</th>\n",
       "      <td>0.826552</td>\n",
       "      <td>MOLM-13</td>\n",
       "    </tr>\n",
       "    <tr>\n",
       "      <th>403</th>\n",
       "      <td>1.116237</td>\n",
       "      <td>MV-4-11</td>\n",
       "    </tr>\n",
       "    <tr>\n",
       "      <th>448</th>\n",
       "      <td>1.708198</td>\n",
       "      <td>RS4-11</td>\n",
       "    </tr>\n",
       "    <tr>\n",
       "      <th>551</th>\n",
       "      <td>1.739541</td>\n",
       "      <td>CML-T1</td>\n",
       "    </tr>\n",
       "    <tr>\n",
       "      <th>542</th>\n",
       "      <td>1.743071</td>\n",
       "      <td>A4-Fuk</td>\n",
       "    </tr>\n",
       "    <tr>\n",
       "      <th>352</th>\n",
       "      <td>1.744109</td>\n",
       "      <td>KE-37</td>\n",
       "    </tr>\n",
       "    <tr>\n",
       "      <th>399</th>\n",
       "      <td>1.781451</td>\n",
       "      <td>MONO-MAC-6</td>\n",
       "    </tr>\n",
       "    <tr>\n",
       "      <th>447</th>\n",
       "      <td>1.868176</td>\n",
       "      <td>RPMI-8402</td>\n",
       "    </tr>\n",
       "    <tr>\n",
       "      <th>775</th>\n",
       "      <td>1.868289</td>\n",
       "      <td>SU-DHL-5</td>\n",
       "    </tr>\n",
       "  </tbody>\n",
       "</table>\n",
       "</div>"
      ],
      "text/plain": [
       "         IC50   Cell_line\n",
       "302  0.180740  EoL-1-cell\n",
       "763  0.826552     MOLM-13\n",
       "403  1.116237     MV-4-11\n",
       "448  1.708198      RS4-11\n",
       "551  1.739541      CML-T1\n",
       "542  1.743071      A4-Fuk\n",
       "352  1.744109       KE-37\n",
       "399  1.781451  MONO-MAC-6\n",
       "447  1.868176   RPMI-8402\n",
       "775  1.868289    SU-DHL-5"
      ]
     },
     "execution_count": 125,
     "metadata": {},
     "output_type": "execute_result"
    }
   ],
   "source": [
    "predict('COc1cc(O)c2c(c1)C=CCC(O)C(O)C(=O)C=CCC(C)OC2=O')"
   ]
  }
 ],
 "metadata": {
  "kernelspec": {
   "display_name": "drug39",
   "language": "python",
   "name": "python3"
  },
  "language_info": {
   "codemirror_mode": {
    "name": "ipython",
    "version": 3
   },
   "file_extension": ".py",
   "mimetype": "text/x-python",
   "name": "python",
   "nbconvert_exporter": "python",
   "pygments_lexer": "ipython3",
   "version": "3.9.18"
  }
 },
 "nbformat": 4,
 "nbformat_minor": 2
}
